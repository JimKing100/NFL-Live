{
  "nbformat": 4,
  "nbformat_minor": 0,
  "metadata": {
    "colab": {
      "name": "Predictions_Combined.ipynb",
      "provenance": [],
      "include_colab_link": true
    },
    "kernelspec": {
      "name": "python3",
      "display_name": "Python 3"
    }
  },
  "cells": [
    {
      "cell_type": "markdown",
      "metadata": {
        "id": "view-in-github",
        "colab_type": "text"
      },
      "source": [
        "<a href=\"https://colab.research.google.com/github/JimKing100/NFL-Live/blob/master/data-science/model-arima/Predictions_Combined.ipynb\" target=\"_parent\"><img src=\"https://colab.research.google.com/assets/colab-badge.svg\" alt=\"Open In Colab\"/></a>"
      ]
    },
    {
      "cell_type": "code",
      "metadata": {
        "id": "OE6HOcRnUA2W",
        "colab_type": "code",
        "colab": {}
      },
      "source": [
        "# Imports\n",
        "import pandas as pd"
      ],
      "execution_count": 0,
      "outputs": []
    },
    {
      "cell_type": "code",
      "metadata": {
        "id": "DRuDmlgJC_k4",
        "colab_type": "code",
        "colab": {}
      },
      "source": [
        "# Combine the defense, offense and rookies into one weekly prediction\n",
        "for i in range(1, 18):\n",
        "    defense_filename = 'https://raw.githubusercontent.com/JimKing100/NFL-Live/master/data-science/data/arima/week' + str(i) + '-pred-defense.csv'\n",
        "    offense_filename = 'https://raw.githubusercontent.com/JimKing100/NFL-Live/master/data-science/data/arima/week' + str(i) + '-pred-offense-norookies.csv'\n",
        "    rookie_filename = 'https://raw.githubusercontent.com/JimKing100/NFL-Live/master/data-science/data/arima/week' + str(i) + '-pred-offense-rookies.csv'\n",
        "\n",
        "    defense_df = pd.read_csv(defense_filename)\n",
        "    offense_df = pd.read_csv(offense_filename)\n",
        "    rookies_df = pd.read_csv(rookie_filename)\n",
        "\n",
        "    predictions_df = pd.concat([defense_df, offense_df, rookies_df], ignore_index=True)\n",
        "\n",
        "    week_cur = 'week' + str(i) + '-cur'\n",
        "    week_pred = 'week' + str(i) + '-pred'\n",
        "    week_act = 'week' + str(i) + '-act'\n",
        "\n",
        "    predictions_df['rank-cur'] = predictions_df[week_cur].rank(method='min', ascending=False)\n",
        "    predictions_df['rank-pred'] = predictions_df[week_pred].rank(method='min', ascending=False)\n",
        "    predictions_df['rank-act'] = predictions_df[week_act].rank(method='min', ascending=False)\n",
        "\n",
        "    predictions_df = predictions_df.sort_values(by=['rank-pred'])\n",
        "\n",
        "    pred_filename = '/content/predictions-week' + str(i) + '.csv'\n",
        "\n",
        "    predictions_df.to_csv(pred_filename, index=False)\n"
      ],
      "execution_count": 0,
      "outputs": []
    }
  ]
}